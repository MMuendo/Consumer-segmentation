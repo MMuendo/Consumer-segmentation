{
 "cells": [
  {
   "cell_type": "code",
   "execution_count": 82,
   "id": "e841c1e5",
   "metadata": {},
   "outputs": [],
   "source": [
    "#Importing necessary modules\n",
    "import pandas as pd\n",
    "import numpy as np\n",
    "import matplotlib.pyplot as plt\n",
    "import seaborn as sns\n",
    "sns.set()\n",
    "\n",
    "from sklearn.preprocessing import StandardScaler\n",
    "from scipy.cluster.hierarchy import dendrogram, linkage\n"
   ]
  },
  {
   "cell_type": "code",
   "execution_count": 87,
   "id": "65f7c20f",
   "metadata": {},
   "outputs": [
    {
     "data": {
      "text/html": [
       "<div>\n",
       "<style scoped>\n",
       "    .dataframe tbody tr th:only-of-type {\n",
       "        vertical-align: middle;\n",
       "    }\n",
       "\n",
       "    .dataframe tbody tr th {\n",
       "        vertical-align: top;\n",
       "    }\n",
       "\n",
       "    .dataframe thead th {\n",
       "        text-align: right;\n",
       "    }\n",
       "</style>\n",
       "<table border=\"1\" class=\"dataframe\">\n",
       "  <thead>\n",
       "    <tr style=\"text-align: right;\">\n",
       "      <th></th>\n",
       "      <th>Gender</th>\n",
       "      <th>Age</th>\n",
       "      <th>Income</th>\n",
       "      <th>Setting</th>\n",
       "      <th>Marital</th>\n",
       "    </tr>\n",
       "    <tr>\n",
       "      <th>ID</th>\n",
       "      <th></th>\n",
       "      <th></th>\n",
       "      <th></th>\n",
       "      <th></th>\n",
       "      <th></th>\n",
       "    </tr>\n",
       "  </thead>\n",
       "  <tbody>\n",
       "    <tr>\n",
       "      <th>147072</th>\n",
       "      <td>2</td>\n",
       "      <td>3</td>\n",
       "      <td>10</td>\n",
       "      <td>2</td>\n",
       "      <td>1</td>\n",
       "    </tr>\n",
       "    <tr>\n",
       "      <th>147678</th>\n",
       "      <td>1</td>\n",
       "      <td>3</td>\n",
       "      <td>10</td>\n",
       "      <td>1</td>\n",
       "      <td>1</td>\n",
       "    </tr>\n",
       "    <tr>\n",
       "      <th>147708</th>\n",
       "      <td>2</td>\n",
       "      <td>3</td>\n",
       "      <td>10</td>\n",
       "      <td>1</td>\n",
       "      <td>2</td>\n",
       "    </tr>\n",
       "    <tr>\n",
       "      <th>147909</th>\n",
       "      <td>2</td>\n",
       "      <td>2</td>\n",
       "      <td>10</td>\n",
       "      <td>1</td>\n",
       "      <td>1</td>\n",
       "    </tr>\n",
       "    <tr>\n",
       "      <th>146754</th>\n",
       "      <td>2</td>\n",
       "      <td>2</td>\n",
       "      <td>10</td>\n",
       "      <td>2</td>\n",
       "      <td>2</td>\n",
       "    </tr>\n",
       "  </tbody>\n",
       "</table>\n",
       "</div>"
      ],
      "text/plain": [
       "        Gender  Age  Income  Setting  Marital\n",
       "ID                                           \n",
       "147072       2    3      10        2        1\n",
       "147678       1    3      10        1        1\n",
       "147708       2    3      10        1        2\n",
       "147909       2    2      10        1        1\n",
       "146754       2    2      10        2        2"
      ]
     },
     "execution_count": 87,
     "metadata": {},
     "output_type": "execute_result"
    }
   ],
   "source": [
    "# Data loading\n",
    "seg = pd.read_csv(r\"C:\\Users\\User\\Desktop\\Ezra - My docs\\Analysis\\Consumer analytics\\Datasets\\kcb_seg1.csv\", index_col='ID')\n",
    "seg.head()"
   ]
  },
  {
   "cell_type": "code",
   "execution_count": 88,
   "id": "a292d27b",
   "metadata": {},
   "outputs": [
    {
     "data": {
      "text/plain": [
       "Gender     0\n",
       "Age        0\n",
       "Income     0\n",
       "Setting    0\n",
       "Marital    0\n",
       "dtype: int64"
      ]
     },
     "execution_count": 88,
     "metadata": {},
     "output_type": "execute_result"
    }
   ],
   "source": [
    "seg.isnull().sum()"
   ]
  },
  {
   "cell_type": "code",
   "execution_count": 89,
   "id": "7e2e285b",
   "metadata": {},
   "outputs": [
    {
     "data": {
      "text/html": [
       "<div>\n",
       "<style scoped>\n",
       "    .dataframe tbody tr th:only-of-type {\n",
       "        vertical-align: middle;\n",
       "    }\n",
       "\n",
       "    .dataframe tbody tr th {\n",
       "        vertical-align: top;\n",
       "    }\n",
       "\n",
       "    .dataframe thead th {\n",
       "        text-align: right;\n",
       "    }\n",
       "</style>\n",
       "<table border=\"1\" class=\"dataframe\">\n",
       "  <thead>\n",
       "    <tr style=\"text-align: right;\">\n",
       "      <th></th>\n",
       "      <th>Gender</th>\n",
       "      <th>Age</th>\n",
       "      <th>Income</th>\n",
       "      <th>Setting</th>\n",
       "      <th>Marital</th>\n",
       "    </tr>\n",
       "  </thead>\n",
       "  <tbody>\n",
       "    <tr>\n",
       "      <th>count</th>\n",
       "      <td>1552.000000</td>\n",
       "      <td>1552.000000</td>\n",
       "      <td>1552.000000</td>\n",
       "      <td>1552.000000</td>\n",
       "      <td>1552.000000</td>\n",
       "    </tr>\n",
       "    <tr>\n",
       "      <th>mean</th>\n",
       "      <td>1.559278</td>\n",
       "      <td>1.810567</td>\n",
       "      <td>4.711985</td>\n",
       "      <td>1.474871</td>\n",
       "      <td>1.629510</td>\n",
       "    </tr>\n",
       "    <tr>\n",
       "      <th>std</th>\n",
       "      <td>0.496634</td>\n",
       "      <td>0.803083</td>\n",
       "      <td>4.004048</td>\n",
       "      <td>0.499529</td>\n",
       "      <td>0.604074</td>\n",
       "    </tr>\n",
       "    <tr>\n",
       "      <th>min</th>\n",
       "      <td>1.000000</td>\n",
       "      <td>1.000000</td>\n",
       "      <td>1.000000</td>\n",
       "      <td>1.000000</td>\n",
       "      <td>1.000000</td>\n",
       "    </tr>\n",
       "    <tr>\n",
       "      <th>25%</th>\n",
       "      <td>1.000000</td>\n",
       "      <td>1.000000</td>\n",
       "      <td>1.000000</td>\n",
       "      <td>1.000000</td>\n",
       "      <td>1.000000</td>\n",
       "    </tr>\n",
       "    <tr>\n",
       "      <th>50%</th>\n",
       "      <td>2.000000</td>\n",
       "      <td>2.000000</td>\n",
       "      <td>2.000000</td>\n",
       "      <td>1.000000</td>\n",
       "      <td>2.000000</td>\n",
       "    </tr>\n",
       "    <tr>\n",
       "      <th>75%</th>\n",
       "      <td>2.000000</td>\n",
       "      <td>2.000000</td>\n",
       "      <td>10.000000</td>\n",
       "      <td>2.000000</td>\n",
       "      <td>2.000000</td>\n",
       "    </tr>\n",
       "    <tr>\n",
       "      <th>max</th>\n",
       "      <td>2.000000</td>\n",
       "      <td>3.000000</td>\n",
       "      <td>10.000000</td>\n",
       "      <td>2.000000</td>\n",
       "      <td>5.000000</td>\n",
       "    </tr>\n",
       "  </tbody>\n",
       "</table>\n",
       "</div>"
      ],
      "text/plain": [
       "            Gender          Age       Income      Setting      Marital\n",
       "count  1552.000000  1552.000000  1552.000000  1552.000000  1552.000000\n",
       "mean      1.559278     1.810567     4.711985     1.474871     1.629510\n",
       "std       0.496634     0.803083     4.004048     0.499529     0.604074\n",
       "min       1.000000     1.000000     1.000000     1.000000     1.000000\n",
       "25%       1.000000     1.000000     1.000000     1.000000     1.000000\n",
       "50%       2.000000     2.000000     2.000000     1.000000     2.000000\n",
       "75%       2.000000     2.000000    10.000000     2.000000     2.000000\n",
       "max       2.000000     3.000000    10.000000     2.000000     5.000000"
      ]
     },
     "execution_count": 89,
     "metadata": {},
     "output_type": "execute_result"
    }
   ],
   "source": [
    "seg.describe()"
   ]
  },
  {
   "cell_type": "code",
   "execution_count": 90,
   "id": "98e0c3b1",
   "metadata": {},
   "outputs": [
    {
     "data": {
      "image/png": "[encoded data removed]",
      "text/plain": [
       "<Figure size 720x504 with 2 Axes>"
      ]
     },
     "metadata": {},
     "output_type": "display_data"
    }
   ],
   "source": [
    "plt.figure(figsize=(10,7))\n",
    "s= sns.heatmap(seg.corr(),\n",
    "            annot=True,\n",
    "            cmap = 'RdBu',\n",
    "            vmin = -1,\n",
    "            vmax = 1, \n",
    "            square = False,\n",
    "            robust = True)\n",
    "s.set_yticklabels(s.get_yticklabels(), fontsize =12)\n",
    "s.set_xticklabels(s.get_xticklabels(), fontsize =12)\n",
    "plt.title ('Correlation Heatmap', fontsize =15)\n",
    "plt.show()"
   ]
  },
  {
   "cell_type": "code",
   "execution_count": 92,
   "id": "d1d65ac7",
   "metadata": {},
   "outputs": [
    {
     "data": {
      "text/plain": [
       "Text(0.5, 1.0, 'Customer Gender')"
      ]
     },
     "execution_count": 92,
     "metadata": {},
     "output_type": "execute_result"
    },
    {
     "data": {
      "image/png": "[encoded data removed]",
      "text/plain": [
       "<Figure size 576x360 with 1 Axes>"
      ]
     },
     "metadata": {},
     "output_type": "display_data"
    }
   ],
   "source": [
    "plt.figure(figsize = (8,5))\n",
    "ax = seg.Gender.value_counts().plot(kind='bar', color=['magenta', 'green'], rot=0)\n",
    "\n",
    "labels = [item.get_text() for item in ax.get_xticklabels()]\n",
    "labels [0] = 'Female'\n",
    "labels [1] = 'Male'\n",
    "\n",
    "ax.set_xticklabels(labels)\n",
    "\n",
    "plt.title('Customer Gender', fontsize = 15)\n"
   ]
  },
  {
   "cell_type": "code",
   "execution_count": 112,
   "id": "8d568a33",
   "metadata": {},
   "outputs": [
    {
     "data": {
      "text/plain": [
       "<seaborn.axisgrid.FacetGrid at 0x2931af36490>"
      ]
     },
     "execution_count": 112,
     "metadata": {},
     "output_type": "execute_result"
    },
    {
     "data": {
      "text/plain": [
       "<Figure size 800x480 with 0 Axes>"
      ]
     },
     "metadata": {},
     "output_type": "display_data"
    },
    {
     "data": {
      "image/png": "[encoded data removed]",
      "text/plain": [
       "<Figure size 864x432 with 1 Axes>"
      ]
     },
     "metadata": {},
     "output_type": "display_data"
    }
   ],
   "source": [
    "plt.figure(figsize = (10,6), dpi = 80)\n",
    "sns.catplot(x='Age', y='Gender', data = seg, height = 6, aspect =2, kind='violin')"
   ]
  },
  {
   "cell_type": "markdown",
   "id": "62bc097d",
   "metadata": {},
   "source": [
    "### Standardization"
   ]
  },
  {
   "cell_type": "code",
   "execution_count": 94,
   "id": "67496dfa",
   "metadata": {},
   "outputs": [],
   "source": [
    "scaler = StandardScaler()\n",
    "seg_std = scaler.fit_transform(seg)"
   ]
  },
  {
   "cell_type": "markdown",
   "id": "aecadf83",
   "metadata": {},
   "source": [
    "### Hierarchical Clustering"
   ]
  },
  {
   "cell_type": "code",
   "execution_count": 95,
   "id": "80f3067f",
   "metadata": {},
   "outputs": [],
   "source": [
    "hier_clust = linkage(seg_std, method = 'ward')"
   ]
  },
  {
   "cell_type": "code",
   "execution_count": 96,
   "id": "7f676dd9",
   "metadata": {
    "scrolled": true
   },
   "outputs": [
    {
     "data": {
      "image/png": "[encoded data removed]",
      "text/plain": [
       "<Figure size 960x480 with 1 Axes>"
      ]
     },
     "metadata": {},
     "output_type": "display_data"
    }
   ],
   "source": [
    "plt.figure (figsize = (12,6), dpi =80)\n",
    "plt.title(\"Hierarchical Clustering Dendrogram\")\n",
    "plt.xlabel('Observations')\n",
    "plt.ylabel('Distance')\n",
    "dendrogram(hier_clust, \n",
    "           truncate_mode = 'level',\n",
    "           p=5,show_leaf_counts = True,\n",
    "          no_labels = True)\n",
    "\n",
    "plt.show()"
   ]
  },
  {
   "cell_type": "markdown",
   "id": "4e96d39d",
   "metadata": {},
   "source": [
    "## K- Means Clustering"
   ]
  },
  {
   "cell_type": "code",
   "execution_count": 97,
   "id": "fb69b24c",
   "metadata": {},
   "outputs": [
    {
     "data": {
      "application/javascript": [
       "\n",
       "        if (window._pyforest_update_imports_cell) { window._pyforest_update_imports_cell('from sklearn.cluster import KMeans'); }\n",
       "    "
      ],
      "text/plain": [
       "<IPython.core.display.Javascript object>"
      ]
     },
     "metadata": {},
     "output_type": "display_data"
    },
    {
     "data": {
      "application/javascript": [
       "\n",
       "        if (window._pyforest_update_imports_cell) { window._pyforest_update_imports_cell('from sklearn.cluster import KMeans'); }\n",
       "    "
      ],
      "text/plain": [
       "<IPython.core.display.Javascript object>"
      ]
     },
     "metadata": {},
     "output_type": "display_data"
    },
    {
     "data": {
      "application/javascript": [
       "\n",
       "        if (window._pyforest_update_imports_cell) { window._pyforest_update_imports_cell('from sklearn.cluster import KMeans'); }\n",
       "    "
      ],
      "text/plain": [
       "<IPython.core.display.Javascript object>"
      ]
     },
     "metadata": {},
     "output_type": "display_data"
    },
    {
     "data": {
      "application/javascript": [
       "\n",
       "        if (window._pyforest_update_imports_cell) { window._pyforest_update_imports_cell('from sklearn.cluster import KMeans'); }\n",
       "    "
      ],
      "text/plain": [
       "<IPython.core.display.Javascript object>"
      ]
     },
     "metadata": {},
     "output_type": "display_data"
    },
    {
     "data": {
      "application/javascript": [
       "\n",
       "        if (window._pyforest_update_imports_cell) { window._pyforest_update_imports_cell('from sklearn.cluster import KMeans'); }\n",
       "    "
      ],
      "text/plain": [
       "<IPython.core.display.Javascript object>"
      ]
     },
     "metadata": {},
     "output_type": "display_data"
    },
    {
     "data": {
      "application/javascript": [
       "\n",
       "        if (window._pyforest_update_imports_cell) { window._pyforest_update_imports_cell('from sklearn.cluster import KMeans'); }\n",
       "    "
      ],
      "text/plain": [
       "<IPython.core.display.Javascript object>"
      ]
     },
     "metadata": {},
     "output_type": "display_data"
    },
    {
     "data": {
      "application/javascript": [
       "\n",
       "        if (window._pyforest_update_imports_cell) { window._pyforest_update_imports_cell('from sklearn.cluster import KMeans'); }\n",
       "    "
      ],
      "text/plain": [
       "<IPython.core.display.Javascript object>"
      ]
     },
     "metadata": {},
     "output_type": "display_data"
    },
    {
     "data": {
      "application/javascript": [
       "\n",
       "        if (window._pyforest_update_imports_cell) { window._pyforest_update_imports_cell('from sklearn.cluster import KMeans'); }\n",
       "    "
      ],
      "text/plain": [
       "<IPython.core.display.Javascript object>"
      ]
     },
     "metadata": {},
     "output_type": "display_data"
    },
    {
     "data": {
      "application/javascript": [
       "\n",
       "        if (window._pyforest_update_imports_cell) { window._pyforest_update_imports_cell('from sklearn.cluster import KMeans'); }\n",
       "    "
      ],
      "text/plain": [
       "<IPython.core.display.Javascript object>"
      ]
     },
     "metadata": {},
     "output_type": "display_data"
    },
    {
     "data": {
      "application/javascript": [
       "\n",
       "        if (window._pyforest_update_imports_cell) { window._pyforest_update_imports_cell('from sklearn.cluster import KMeans'); }\n",
       "    "
      ],
      "text/plain": [
       "<IPython.core.display.Javascript object>"
      ]
     },
     "metadata": {},
     "output_type": "display_data"
    }
   ],
   "source": [
    "wcss = []\n",
    "for i in range (1,11):\n",
    "    kmeans = KMeans(n_clusters = i, init = 'k-means++', random_state = 42)\n",
    "    kmeans.fit(seg_std)\n",
    "    wcss.append(kmeans.inertia_)"
   ]
  },
  {
   "cell_type": "code",
   "execution_count": 98,
   "id": "832e324f",
   "metadata": {},
   "outputs": [
    {
     "data": {
      "text/plain": [
       "Text(0.5, 1.0, 'K-means clustering')"
      ]
     },
     "execution_count": 98,
     "metadata": {},
     "output_type": "execute_result"
    },
    {
     "data": {
      "image/png": "[encoded data removed]",
      "text/plain": [
       "<Figure size 864x432 with 1 Axes>"
      ]
     },
     "metadata": {},
     "output_type": "display_data"
    }
   ],
   "source": [
    "plt.figure(figsize = (12,6))\n",
    "plt.plot(range(1,11), wcss, marker = '*', linestyle = \"--\")\n",
    "plt.title('K-means clustering')"
   ]
  },
  {
   "cell_type": "code",
   "execution_count": 99,
   "id": "4a12a4d9",
   "metadata": {},
   "outputs": [
    {
     "data": {
      "application/javascript": [
       "\n",
       "        if (window._pyforest_update_imports_cell) { window._pyforest_update_imports_cell('from sklearn.cluster import KMeans'); }\n",
       "    "
      ],
      "text/plain": [
       "<IPython.core.display.Javascript object>"
      ]
     },
     "metadata": {},
     "output_type": "display_data"
    }
   ],
   "source": [
    "kmeans = KMeans(n_clusters =3, init = 'k-means++', random_state =42)"
   ]
  },
  {
   "cell_type": "code",
   "execution_count": 100,
   "id": "5092320e",
   "metadata": {},
   "outputs": [
    {
     "data": {
      "text/plain": [
       "KMeans(n_clusters=3, random_state=42)"
      ]
     },
     "execution_count": 100,
     "metadata": {},
     "output_type": "execute_result"
    }
   ],
   "source": [
    "kmeans.fit(seg_std)"
   ]
  },
  {
   "cell_type": "code",
   "execution_count": 101,
   "id": "67570a1c",
   "metadata": {},
   "outputs": [],
   "source": [
    "seg_kmeans = seg.copy()\n",
    "seg_kmeans['Segment K-means'] = kmeans.labels_"
   ]
  },
  {
   "cell_type": "code",
   "execution_count": 102,
   "id": "d28e20b7",
   "metadata": {},
   "outputs": [
    {
     "data": {
      "text/html": [
       "<div>\n",
       "<style scoped>\n",
       "    .dataframe tbody tr th:only-of-type {\n",
       "        vertical-align: middle;\n",
       "    }\n",
       "\n",
       "    .dataframe tbody tr th {\n",
       "        vertical-align: top;\n",
       "    }\n",
       "\n",
       "    .dataframe thead th {\n",
       "        text-align: right;\n",
       "    }\n",
       "</style>\n",
       "<table border=\"1\" class=\"dataframe\">\n",
       "  <thead>\n",
       "    <tr style=\"text-align: right;\">\n",
       "      <th></th>\n",
       "      <th>Gender</th>\n",
       "      <th>Age</th>\n",
       "      <th>Income</th>\n",
       "      <th>Setting</th>\n",
       "      <th>Marital</th>\n",
       "    </tr>\n",
       "    <tr>\n",
       "      <th>Segment K-means</th>\n",
       "      <th></th>\n",
       "      <th></th>\n",
       "      <th></th>\n",
       "      <th></th>\n",
       "      <th></th>\n",
       "    </tr>\n",
       "  </thead>\n",
       "  <tbody>\n",
       "    <tr>\n",
       "      <th>0</th>\n",
       "      <td>1.453465</td>\n",
       "      <td>1.409901</td>\n",
       "      <td>1.655446</td>\n",
       "      <td>1.534653</td>\n",
       "      <td>1.946535</td>\n",
       "    </tr>\n",
       "    <tr>\n",
       "      <th>1</th>\n",
       "      <td>1.449275</td>\n",
       "      <td>2.648551</td>\n",
       "      <td>2.838768</td>\n",
       "      <td>1.510870</td>\n",
       "      <td>1.168478</td>\n",
       "    </tr>\n",
       "    <tr>\n",
       "      <th>2</th>\n",
       "      <td>1.789899</td>\n",
       "      <td>1.284848</td>\n",
       "      <td>9.919192</td>\n",
       "      <td>1.373737</td>\n",
       "      <td>1.820202</td>\n",
       "    </tr>\n",
       "  </tbody>\n",
       "</table>\n",
       "</div>"
      ],
      "text/plain": [
       "                   Gender       Age    Income   Setting   Marital\n",
       "Segment K-means                                                  \n",
       "0                1.453465  1.409901  1.655446  1.534653  1.946535\n",
       "1                1.449275  2.648551  2.838768  1.510870  1.168478\n",
       "2                1.789899  1.284848  9.919192  1.373737  1.820202"
      ]
     },
     "execution_count": 102,
     "metadata": {},
     "output_type": "execute_result"
    }
   ],
   "source": [
    "seg_analysis = seg_kmeans.groupby(['Segment K-means']).mean()\n",
    "seg_analysis"
   ]
  },
  {
   "cell_type": "code",
   "execution_count": 114,
   "id": "e2cced39",
   "metadata": {},
   "outputs": [
    {
     "data": {
      "text/html": [
       "<div>\n",
       "<style scoped>\n",
       "    .dataframe tbody tr th:only-of-type {\n",
       "        vertical-align: middle;\n",
       "    }\n",
       "\n",
       "    .dataframe tbody tr th {\n",
       "        vertical-align: top;\n",
       "    }\n",
       "\n",
       "    .dataframe thead th {\n",
       "        text-align: right;\n",
       "    }\n",
       "</style>\n",
       "<table border=\"1\" class=\"dataframe\">\n",
       "  <thead>\n",
       "    <tr style=\"text-align: right;\">\n",
       "      <th></th>\n",
       "      <th>Gender</th>\n",
       "      <th>Age</th>\n",
       "      <th>Income</th>\n",
       "      <th>Setting</th>\n",
       "      <th>Marital</th>\n",
       "      <th>N Obs</th>\n",
       "    </tr>\n",
       "    <tr>\n",
       "      <th>Segment K-means</th>\n",
       "      <th></th>\n",
       "      <th></th>\n",
       "      <th></th>\n",
       "      <th></th>\n",
       "      <th></th>\n",
       "      <th></th>\n",
       "    </tr>\n",
       "  </thead>\n",
       "  <tbody>\n",
       "    <tr>\n",
       "      <th>0</th>\n",
       "      <td>1.453465</td>\n",
       "      <td>1.409901</td>\n",
       "      <td>1.655446</td>\n",
       "      <td>1.534653</td>\n",
       "      <td>1.946535</td>\n",
       "      <td>505</td>\n",
       "    </tr>\n",
       "    <tr>\n",
       "      <th>1</th>\n",
       "      <td>1.449275</td>\n",
       "      <td>2.648551</td>\n",
       "      <td>2.838768</td>\n",
       "      <td>1.510870</td>\n",
       "      <td>1.168478</td>\n",
       "      <td>552</td>\n",
       "    </tr>\n",
       "    <tr>\n",
       "      <th>2</th>\n",
       "      <td>1.789899</td>\n",
       "      <td>1.284848</td>\n",
       "      <td>9.919192</td>\n",
       "      <td>1.373737</td>\n",
       "      <td>1.820202</td>\n",
       "      <td>495</td>\n",
       "    </tr>\n",
       "  </tbody>\n",
       "</table>\n",
       "</div>"
      ],
      "text/plain": [
       "                   Gender       Age    Income   Setting   Marital  N Obs\n",
       "Segment K-means                                                         \n",
       "0                1.453465  1.409901  1.655446  1.534653  1.946535    505\n",
       "1                1.449275  2.648551  2.838768  1.510870  1.168478    552\n",
       "2                1.789899  1.284848  9.919192  1.373737  1.820202    495"
      ]
     },
     "execution_count": 114,
     "metadata": {},
     "output_type": "execute_result"
    }
   ],
   "source": [
    "seg_analysis['N Obs'] = seg_kmeans[['Segment K-means', 'Gender']].groupby(['Segment K-means']).count()\n",
    "seg_analysis"
   ]
  },
  {
   "cell_type": "code",
   "execution_count": 115,
   "id": "472c1442",
   "metadata": {},
   "outputs": [],
   "source": [
    "seg_analysis['Prop Obs'] = seg_analysis['N Obs']/seg_analysis['N Obs'].sum()"
   ]
  },
  {
   "cell_type": "code",
   "execution_count": 116,
   "id": "0e7e246e",
   "metadata": {},
   "outputs": [
    {
     "data": {
      "text/html": [
       "<div>\n",
       "<style scoped>\n",
       "    .dataframe tbody tr th:only-of-type {\n",
       "        vertical-align: middle;\n",
       "    }\n",
       "\n",
       "    .dataframe tbody tr th {\n",
       "        vertical-align: top;\n",
       "    }\n",
       "\n",
       "    .dataframe thead th {\n",
       "        text-align: right;\n",
       "    }\n",
       "</style>\n",
       "<table border=\"1\" class=\"dataframe\">\n",
       "  <thead>\n",
       "    <tr style=\"text-align: right;\">\n",
       "      <th></th>\n",
       "      <th>Gender</th>\n",
       "      <th>Age</th>\n",
       "      <th>Income</th>\n",
       "      <th>Setting</th>\n",
       "      <th>Marital</th>\n",
       "      <th>N Obs</th>\n",
       "      <th>Prop Obs</th>\n",
       "    </tr>\n",
       "    <tr>\n",
       "      <th>Segment K-means</th>\n",
       "      <th></th>\n",
       "      <th></th>\n",
       "      <th></th>\n",
       "      <th></th>\n",
       "      <th></th>\n",
       "      <th></th>\n",
       "      <th></th>\n",
       "    </tr>\n",
       "  </thead>\n",
       "  <tbody>\n",
       "    <tr>\n",
       "      <th>0</th>\n",
       "      <td>1.453465</td>\n",
       "      <td>1.409901</td>\n",
       "      <td>1.655446</td>\n",
       "      <td>1.534653</td>\n",
       "      <td>1.946535</td>\n",
       "      <td>505</td>\n",
       "      <td>0.325387</td>\n",
       "    </tr>\n",
       "    <tr>\n",
       "      <th>1</th>\n",
       "      <td>1.449275</td>\n",
       "      <td>2.648551</td>\n",
       "      <td>2.838768</td>\n",
       "      <td>1.510870</td>\n",
       "      <td>1.168478</td>\n",
       "      <td>552</td>\n",
       "      <td>0.355670</td>\n",
       "    </tr>\n",
       "    <tr>\n",
       "      <th>2</th>\n",
       "      <td>1.789899</td>\n",
       "      <td>1.284848</td>\n",
       "      <td>9.919192</td>\n",
       "      <td>1.373737</td>\n",
       "      <td>1.820202</td>\n",
       "      <td>495</td>\n",
       "      <td>0.318943</td>\n",
       "    </tr>\n",
       "  </tbody>\n",
       "</table>\n",
       "</div>"
      ],
      "text/plain": [
       "                   Gender       Age    Income   Setting   Marital  N Obs  \\\n",
       "Segment K-means                                                            \n",
       "0                1.453465  1.409901  1.655446  1.534653  1.946535    505   \n",
       "1                1.449275  2.648551  2.838768  1.510870  1.168478    552   \n",
       "2                1.789899  1.284848  9.919192  1.373737  1.820202    495   \n",
       "\n",
       "                 Prop Obs  \n",
       "Segment K-means            \n",
       "0                0.325387  \n",
       "1                0.355670  \n",
       "2                0.318943  "
      ]
     },
     "execution_count": 116,
     "metadata": {},
     "output_type": "execute_result"
    }
   ],
   "source": [
    "seg_analysis"
   ]
  },
  {
   "cell_type": "code",
   "execution_count": 118,
   "id": "41e06ca3",
   "metadata": {},
   "outputs": [
    {
     "data": {
      "text/html": [
       "<div>\n",
       "<style scoped>\n",
       "    .dataframe tbody tr th:only-of-type {\n",
       "        vertical-align: middle;\n",
       "    }\n",
       "\n",
       "    .dataframe tbody tr th {\n",
       "        vertical-align: top;\n",
       "    }\n",
       "\n",
       "    .dataframe thead th {\n",
       "        text-align: right;\n",
       "    }\n",
       "</style>\n",
       "<table border=\"1\" class=\"dataframe\">\n",
       "  <thead>\n",
       "    <tr style=\"text-align: right;\">\n",
       "      <th></th>\n",
       "      <th>Gender</th>\n",
       "      <th>Age</th>\n",
       "      <th>Income</th>\n",
       "      <th>Setting</th>\n",
       "      <th>Marital</th>\n",
       "      <th>N Obs</th>\n",
       "      <th>Prop Obs</th>\n",
       "    </tr>\n",
       "    <tr>\n",
       "      <th>Segment K-means</th>\n",
       "      <th></th>\n",
       "      <th></th>\n",
       "      <th></th>\n",
       "      <th></th>\n",
       "      <th></th>\n",
       "      <th></th>\n",
       "      <th></th>\n",
       "    </tr>\n",
       "  </thead>\n",
       "  <tbody>\n",
       "    <tr>\n",
       "      <th>Standard</th>\n",
       "      <td>1.453465</td>\n",
       "      <td>1.409901</td>\n",
       "      <td>1.655446</td>\n",
       "      <td>1.534653</td>\n",
       "      <td>1.946535</td>\n",
       "      <td>505</td>\n",
       "      <td>0.325387</td>\n",
       "    </tr>\n",
       "    <tr>\n",
       "      <th>Well-off</th>\n",
       "      <td>1.449275</td>\n",
       "      <td>2.648551</td>\n",
       "      <td>2.838768</td>\n",
       "      <td>1.510870</td>\n",
       "      <td>1.168478</td>\n",
       "      <td>552</td>\n",
       "      <td>0.355670</td>\n",
       "    </tr>\n",
       "    <tr>\n",
       "      <th>Young adults</th>\n",
       "      <td>1.789899</td>\n",
       "      <td>1.284848</td>\n",
       "      <td>9.919192</td>\n",
       "      <td>1.373737</td>\n",
       "      <td>1.820202</td>\n",
       "      <td>495</td>\n",
       "      <td>0.318943</td>\n",
       "    </tr>\n",
       "  </tbody>\n",
       "</table>\n",
       "</div>"
      ],
      "text/plain": [
       "                   Gender       Age    Income   Setting   Marital  N Obs  \\\n",
       "Segment K-means                                                            \n",
       "Standard         1.453465  1.409901  1.655446  1.534653  1.946535    505   \n",
       "Well-off         1.449275  2.648551  2.838768  1.510870  1.168478    552   \n",
       "Young adults     1.789899  1.284848  9.919192  1.373737  1.820202    495   \n",
       "\n",
       "                 Prop Obs  \n",
       "Segment K-means            \n",
       "Standard         0.325387  \n",
       "Well-off         0.355670  \n",
       "Young adults     0.318943  "
      ]
     },
     "execution_count": 118,
     "metadata": {},
     "output_type": "execute_result"
    }
   ],
   "source": [
    "seg_analysis.rename({0: 'Standard', \n",
    "                     1:'Well-off', \n",
    "                     2:'Young adults'})"
   ]
  },
  {
   "cell_type": "code",
   "execution_count": 119,
   "id": "28ea7384",
   "metadata": {},
   "outputs": [],
   "source": [
    "seg_kmeans['Labels'] = seg_kmeans['Segment K-means'].map({0: 'Standard', \n",
    "                     1:'Well-off', \n",
    "                     2:'Young adults'})"
   ]
  },
  {
   "cell_type": "code",
   "execution_count": 121,
   "id": "e9955573",
   "metadata": {},
   "outputs": [
    {
     "data": {
      "text/html": [
       "<div>\n",
       "<style scoped>\n",
       "    .dataframe tbody tr th:only-of-type {\n",
       "        vertical-align: middle;\n",
       "    }\n",
       "\n",
       "    .dataframe tbody tr th {\n",
       "        vertical-align: top;\n",
       "    }\n",
       "\n",
       "    .dataframe thead th {\n",
       "        text-align: right;\n",
       "    }\n",
       "</style>\n",
       "<table border=\"1\" class=\"dataframe\">\n",
       "  <thead>\n",
       "    <tr style=\"text-align: right;\">\n",
       "      <th></th>\n",
       "      <th>Gender</th>\n",
       "      <th>Age</th>\n",
       "      <th>Income</th>\n",
       "      <th>Setting</th>\n",
       "      <th>Marital</th>\n",
       "      <th>Segment K-means</th>\n",
       "      <th>Labels</th>\n",
       "    </tr>\n",
       "    <tr>\n",
       "      <th>ID</th>\n",
       "      <th></th>\n",
       "      <th></th>\n",
       "      <th></th>\n",
       "      <th></th>\n",
       "      <th></th>\n",
       "      <th></th>\n",
       "      <th></th>\n",
       "    </tr>\n",
       "  </thead>\n",
       "  <tbody>\n",
       "    <tr>\n",
       "      <th>147072</th>\n",
       "      <td>2</td>\n",
       "      <td>3</td>\n",
       "      <td>10</td>\n",
       "      <td>2</td>\n",
       "      <td>1</td>\n",
       "      <td>1</td>\n",
       "      <td>Well-off</td>\n",
       "    </tr>\n",
       "    <tr>\n",
       "      <th>147678</th>\n",
       "      <td>1</td>\n",
       "      <td>3</td>\n",
       "      <td>10</td>\n",
       "      <td>1</td>\n",
       "      <td>1</td>\n",
       "      <td>1</td>\n",
       "      <td>Well-off</td>\n",
       "    </tr>\n",
       "    <tr>\n",
       "      <th>147708</th>\n",
       "      <td>2</td>\n",
       "      <td>3</td>\n",
       "      <td>10</td>\n",
       "      <td>1</td>\n",
       "      <td>2</td>\n",
       "      <td>2</td>\n",
       "      <td>Young adults</td>\n",
       "    </tr>\n",
       "    <tr>\n",
       "      <th>147909</th>\n",
       "      <td>2</td>\n",
       "      <td>2</td>\n",
       "      <td>10</td>\n",
       "      <td>1</td>\n",
       "      <td>1</td>\n",
       "      <td>2</td>\n",
       "      <td>Young adults</td>\n",
       "    </tr>\n",
       "    <tr>\n",
       "      <th>146754</th>\n",
       "      <td>2</td>\n",
       "      <td>2</td>\n",
       "      <td>10</td>\n",
       "      <td>2</td>\n",
       "      <td>2</td>\n",
       "      <td>2</td>\n",
       "      <td>Young adults</td>\n",
       "    </tr>\n",
       "  </tbody>\n",
       "</table>\n",
       "</div>"
      ],
      "text/plain": [
       "        Gender  Age  Income  Setting  Marital  Segment K-means        Labels\n",
       "ID                                                                          \n",
       "147072       2    3      10        2        1                1      Well-off\n",
       "147678       1    3      10        1        1                1      Well-off\n",
       "147708       2    3      10        1        2                2  Young adults\n",
       "147909       2    2      10        1        1                2  Young adults\n",
       "146754       2    2      10        2        2                2  Young adults"
      ]
     },
     "execution_count": 121,
     "metadata": {},
     "output_type": "execute_result"
    }
   ],
   "source": [
    "seg_kmeans.head()"
   ]
  },
  {
   "cell_type": "code",
   "execution_count": 123,
   "id": "dc054e1d",
   "metadata": {
    "scrolled": true
   },
   "outputs": [
    {
     "data": {
      "image/png": "[encoded data removed]",
      "text/plain": [
       "<Figure size 864x432 with 1 Axes>"
      ]
     },
     "metadata": {},
     "output_type": "display_data"
    }
   ],
   "source": [
    "plt.figure(figsize = (12,6))\n",
    "sns.scatterplot(y= 'Income', x = 'Age', data = seg_kmeans, hue='Labels')\n",
    "plt.title('Segmentation Kmeans')\n",
    "plt.show()"
   ]
  },
  {
   "cell_type": "markdown",
   "id": "2331a610",
   "metadata": {},
   "source": [
    "## Principle Component analysis"
   ]
  },
  {
   "cell_type": "code",
   "execution_count": 124,
   "id": "a88fb372",
   "metadata": {},
   "outputs": [
    {
     "data": {
      "application/javascript": [
       "\n",
       "        if (window._pyforest_update_imports_cell) { window._pyforest_update_imports_cell('from sklearn.decomposition import PCA\\nfrom sklearn.cluster import KMeans'); }\n",
       "    "
      ],
      "text/plain": [
       "<IPython.core.display.Javascript object>"
      ]
     },
     "metadata": {},
     "output_type": "display_data"
    }
   ],
   "source": [
    "pca = PCA()"
   ]
  },
  {
   "cell_type": "code",
   "execution_count": 125,
   "id": "b6c57e1e",
   "metadata": {},
   "outputs": [
    {
     "data": {
      "text/plain": [
       "PCA()"
      ]
     },
     "execution_count": 125,
     "metadata": {},
     "output_type": "execute_result"
    }
   ],
   "source": [
    "pca.fit(seg_std)"
   ]
  },
  {
   "cell_type": "code",
   "execution_count": 126,
   "id": "7c12499b",
   "metadata": {},
   "outputs": [
    {
     "data": {
      "text/plain": [
       "array([0.33171191, 0.22290844, 0.18245191, 0.14028885, 0.12263888])"
      ]
     },
     "execution_count": 126,
     "metadata": {},
     "output_type": "execute_result"
    }
   ],
   "source": [
    "pca.explained_variance_ratio_"
   ]
  },
  {
   "cell_type": "code",
   "execution_count": 130,
   "id": "3cf6ac97",
   "metadata": {},
   "outputs": [
    {
     "data": {
      "text/plain": [
       "Text(0, 0.5, 'Cumulative explained variance')"
      ]
     },
     "execution_count": 130,
     "metadata": {},
     "output_type": "execute_result"
    },
    {
     "data": {
      "image/png": "[encoded data removed]",
      "text/plain": [
       "<Figure size 864x432 with 1 Axes>"
      ]
     },
     "metadata": {},
     "output_type": "display_data"
    }
   ],
   "source": [
    "plt.figure(figsize=(12,6))\n",
    "plt.plot(range(1,6), pca.explained_variance_ratio_.cumsum(), marker = '*')\n",
    "plt.title('Explained Variance by components')\n",
    "plt.xlabel('Number of components')\n",
    "plt.ylabel('Cumulative explained variance')"
   ]
  },
  {
   "cell_type": "code",
   "execution_count": 131,
   "id": "86a3d1a7",
   "metadata": {},
   "outputs": [
    {
     "data": {
      "application/javascript": [
       "\n",
       "        if (window._pyforest_update_imports_cell) { window._pyforest_update_imports_cell('from sklearn.decomposition import PCA\\nfrom sklearn.cluster import KMeans'); }\n",
       "    "
      ],
      "text/plain": [
       "<IPython.core.display.Javascript object>"
      ]
     },
     "metadata": {},
     "output_type": "display_data"
    }
   ],
   "source": [
    "pca = PCA(n_components = 4)"
   ]
  },
  {
   "cell_type": "code",
   "execution_count": 132,
   "id": "9ba3611c",
   "metadata": {},
   "outputs": [
    {
     "data": {
      "text/plain": [
       "PCA(n_components=4)"
      ]
     },
     "execution_count": 132,
     "metadata": {},
     "output_type": "execute_result"
    }
   ],
   "source": [
    "pca.fit(seg_std)"
   ]
  },
  {
   "cell_type": "code",
   "execution_count": 133,
   "id": "6198c229",
   "metadata": {},
   "outputs": [
    {
     "data": {
      "text/plain": [
       "array([[ 0.42118778, -0.57087939,  0.53749602, -0.23787045,  0.38886148],\n",
       "       [-0.41943836, -0.23673607, -0.14457654,  0.56630472,  0.65301155],\n",
       "       [-0.51610246, -0.24541718, -0.30198923, -0.74612334,  0.15972205],\n",
       "       [ 0.61609996, -0.00926249, -0.73012292, -0.06596688,  0.28793044]])"
      ]
     },
     "execution_count": 133,
     "metadata": {},
     "output_type": "execute_result"
    }
   ],
   "source": [
    "pca.components_"
   ]
  },
  {
   "cell_type": "code",
   "execution_count": 134,
   "id": "b726089c",
   "metadata": {},
   "outputs": [],
   "source": [
    "df_pca_comp = pd.DataFrame(data = pca.components_,\n",
    "                           columns = seg.columns.values,\n",
    "                           index = ['Component 1', 'Component 2', 'Component 3', 'Component 4'])"
   ]
  },
  {
   "cell_type": "code",
   "execution_count": 135,
   "id": "966ac8cc",
   "metadata": {},
   "outputs": [
    {
     "data": {
      "text/html": [
       "<div>\n",
       "<style scoped>\n",
       "    .dataframe tbody tr th:only-of-type {\n",
       "        vertical-align: middle;\n",
       "    }\n",
       "\n",
       "    .dataframe tbody tr th {\n",
       "        vertical-align: top;\n",
       "    }\n",
       "\n",
       "    .dataframe thead th {\n",
       "        text-align: right;\n",
       "    }\n",
       "</style>\n",
       "<table border=\"1\" class=\"dataframe\">\n",
       "  <thead>\n",
       "    <tr style=\"text-align: right;\">\n",
       "      <th></th>\n",
       "      <th>Gender</th>\n",
       "      <th>Age</th>\n",
       "      <th>Income</th>\n",
       "      <th>Setting</th>\n",
       "      <th>Marital</th>\n",
       "    </tr>\n",
       "  </thead>\n",
       "  <tbody>\n",
       "    <tr>\n",
       "      <th>Component 1</th>\n",
       "      <td>0.421188</td>\n",
       "      <td>-0.570879</td>\n",
       "      <td>0.537496</td>\n",
       "      <td>-0.237870</td>\n",
       "      <td>0.388861</td>\n",
       "    </tr>\n",
       "    <tr>\n",
       "      <th>Component 2</th>\n",
       "      <td>-0.419438</td>\n",
       "      <td>-0.236736</td>\n",
       "      <td>-0.144577</td>\n",
       "      <td>0.566305</td>\n",
       "      <td>0.653012</td>\n",
       "    </tr>\n",
       "    <tr>\n",
       "      <th>Component 3</th>\n",
       "      <td>-0.516102</td>\n",
       "      <td>-0.245417</td>\n",
       "      <td>-0.301989</td>\n",
       "      <td>-0.746123</td>\n",
       "      <td>0.159722</td>\n",
       "    </tr>\n",
       "    <tr>\n",
       "      <th>Component 4</th>\n",
       "      <td>0.616100</td>\n",
       "      <td>-0.009262</td>\n",
       "      <td>-0.730123</td>\n",
       "      <td>-0.065967</td>\n",
       "      <td>0.287930</td>\n",
       "    </tr>\n",
       "  </tbody>\n",
       "</table>\n",
       "</div>"
      ],
      "text/plain": [
       "               Gender       Age    Income   Setting   Marital\n",
       "Component 1  0.421188 -0.570879  0.537496 -0.237870  0.388861\n",
       "Component 2 -0.419438 -0.236736 -0.144577  0.566305  0.653012\n",
       "Component 3 -0.516102 -0.245417 -0.301989 -0.746123  0.159722\n",
       "Component 4  0.616100 -0.009262 -0.730123 -0.065967  0.287930"
      ]
     },
     "execution_count": 135,
     "metadata": {},
     "output_type": "execute_result"
    }
   ],
   "source": [
    "df_pca_comp"
   ]
  },
  {
   "cell_type": "code",
   "execution_count": 136,
   "id": "b8656ab4",
   "metadata": {},
   "outputs": [
    {
     "data": {
      "image/png": "[encoded data removed]",
      "text/plain": [
       "<Figure size 432x288 with 2 Axes>"
      ]
     },
     "metadata": {},
     "output_type": "display_data"
    }
   ],
   "source": [
    "sns.heatmap(data = df_pca_comp,\n",
    "            vmin = -1,\n",
    "            vmax = 1,\n",
    "            cmap = 'RdBu',\n",
    "            annot = True)\n",
    "plt.yticks(rotation =45, fontsize = 12)\n",
    "plt.show()"
   ]
  },
  {
   "cell_type": "code",
   "execution_count": 137,
   "id": "370e9506",
   "metadata": {},
   "outputs": [],
   "source": [
    "pca_scores = pca.transform(seg_std)"
   ]
  },
  {
   "cell_type": "code",
   "execution_count": 138,
   "id": "18755134",
   "metadata": {
    "scrolled": true
   },
   "outputs": [
    {
     "data": {
      "text/plain": [
       "array([[-0.41732739, -0.99928414, -2.17181692, -0.80088991],\n",
       "       [-0.78934332, -1.28849158,  0.36185439, -1.9097412 ],\n",
       "       [ 0.7029544 , -1.0519659 , -0.41318882, -0.19198801],\n",
       "       ...,\n",
       "       [-0.78049023, -0.41545141, -1.26256252,  0.66988711],\n",
       "       [ 0.91659862, -0.13713504,  0.87720298,  1.47273134],\n",
       "       [ 0.44025576,  0.99690751, -0.61693186,  1.34063064]])"
      ]
     },
     "execution_count": 138,
     "metadata": {},
     "output_type": "execute_result"
    }
   ],
   "source": [
    "pca_scores"
   ]
  },
  {
   "cell_type": "markdown",
   "id": "df16b000",
   "metadata": {},
   "source": [
    "## K- means Clustering with PCA"
   ]
  },
  {
   "cell_type": "code",
   "execution_count": 139,
   "id": "57639b0a",
   "metadata": {},
   "outputs": [
    {
     "data": {
      "application/javascript": [
       "\n",
       "        if (window._pyforest_update_imports_cell) { window._pyforest_update_imports_cell('from sklearn.decomposition import PCA\\nfrom sklearn.cluster import KMeans'); }\n",
       "    "
      ],
      "text/plain": [
       "<IPython.core.display.Javascript object>"
      ]
     },
     "metadata": {},
     "output_type": "display_data"
    },
    {
     "data": {
      "application/javascript": [
       "\n",
       "        if (window._pyforest_update_imports_cell) { window._pyforest_update_imports_cell('from sklearn.decomposition import PCA\\nfrom sklearn.cluster import KMeans'); }\n",
       "    "
      ],
      "text/plain": [
       "<IPython.core.display.Javascript object>"
      ]
     },
     "metadata": {},
     "output_type": "display_data"
    },
    {
     "data": {
      "application/javascript": [
       "\n",
       "        if (window._pyforest_update_imports_cell) { window._pyforest_update_imports_cell('from sklearn.decomposition import PCA\\nfrom sklearn.cluster import KMeans'); }\n",
       "    "
      ],
      "text/plain": [
       "<IPython.core.display.Javascript object>"
      ]
     },
     "metadata": {},
     "output_type": "display_data"
    },
    {
     "data": {
      "application/javascript": [
       "\n",
       "        if (window._pyforest_update_imports_cell) { window._pyforest_update_imports_cell('from sklearn.decomposition import PCA\\nfrom sklearn.cluster import KMeans'); }\n",
       "    "
      ],
      "text/plain": [
       "<IPython.core.display.Javascript object>"
      ]
     },
     "metadata": {},
     "output_type": "display_data"
    },
    {
     "data": {
      "application/javascript": [
       "\n",
       "        if (window._pyforest_update_imports_cell) { window._pyforest_update_imports_cell('from sklearn.decomposition import PCA\\nfrom sklearn.cluster import KMeans'); }\n",
       "    "
      ],
      "text/plain": [
       "<IPython.core.display.Javascript object>"
      ]
     },
     "metadata": {},
     "output_type": "display_data"
    },
    {
     "data": {
      "application/javascript": [
       "\n",
       "        if (window._pyforest_update_imports_cell) { window._pyforest_update_imports_cell('from sklearn.decomposition import PCA\\nfrom sklearn.cluster import KMeans'); }\n",
       "    "
      ],
      "text/plain": [
       "<IPython.core.display.Javascript object>"
      ]
     },
     "metadata": {},
     "output_type": "display_data"
    },
    {
     "data": {
      "application/javascript": [
       "\n",
       "        if (window._pyforest_update_imports_cell) { window._pyforest_update_imports_cell('from sklearn.decomposition import PCA\\nfrom sklearn.cluster import KMeans'); }\n",
       "    "
      ],
      "text/plain": [
       "<IPython.core.display.Javascript object>"
      ]
     },
     "metadata": {},
     "output_type": "display_data"
    },
    {
     "data": {
      "application/javascript": [
       "\n",
       "        if (window._pyforest_update_imports_cell) { window._pyforest_update_imports_cell('from sklearn.decomposition import PCA\\nfrom sklearn.cluster import KMeans'); }\n",
       "    "
      ],
      "text/plain": [
       "<IPython.core.display.Javascript object>"
      ]
     },
     "metadata": {},
     "output_type": "display_data"
    },
    {
     "data": {
      "application/javascript": [
       "\n",
       "        if (window._pyforest_update_imports_cell) { window._pyforest_update_imports_cell('from sklearn.decomposition import PCA\\nfrom sklearn.cluster import KMeans'); }\n",
       "    "
      ],
      "text/plain": [
       "<IPython.core.display.Javascript object>"
      ]
     },
     "metadata": {},
     "output_type": "display_data"
    },
    {
     "data": {
      "application/javascript": [
       "\n",
       "        if (window._pyforest_update_imports_cell) { window._pyforest_update_imports_cell('from sklearn.decomposition import PCA\\nfrom sklearn.cluster import KMeans'); }\n",
       "    "
      ],
      "text/plain": [
       "<IPython.core.display.Javascript object>"
      ]
     },
     "metadata": {},
     "output_type": "display_data"
    }
   ],
   "source": [
    "wcss = []\n",
    "for i in range (1,11):\n",
    "    kmeans_pca = KMeans(n_clusters =i, init = 'k-means++', random_state = 42)\n",
    "    kmeans_pca.fit(pca_scores)\n",
    "    wcss.append(kmeans_pca.inertia_)"
   ]
  },
  {
   "cell_type": "code",
   "execution_count": 140,
   "id": "0e618c0f",
   "metadata": {},
   "outputs": [
    {
     "data": {
      "text/plain": [
       "Text(0, 0.5, 'WCSS')"
      ]
     },
     "execution_count": 140,
     "metadata": {},
     "output_type": "execute_result"
    },
    {
     "data": {
      "image/png": "[encoded data removed]",
      "text/plain": [
       "<Figure size 864x432 with 1 Axes>"
      ]
     },
     "metadata": {},
     "output_type": "display_data"
    }
   ],
   "source": [
    "plt.figure(figsize = (12,6))\n",
    "plt.plot(range(1,11), wcss, marker = '*', linestyle = '--')\n",
    "plt.title('K-means with PCA Clustering')\n",
    "plt.xlabel ('Number of Clusters')\n",
    "plt.ylabel ('WCSS')"
   ]
  },
  {
   "cell_type": "code",
   "execution_count": 141,
   "id": "979ef7d3",
   "metadata": {},
   "outputs": [
    {
     "data": {
      "application/javascript": [
       "\n",
       "        if (window._pyforest_update_imports_cell) { window._pyforest_update_imports_cell('from sklearn.decomposition import PCA\\nfrom sklearn.cluster import KMeans'); }\n",
       "    "
      ],
      "text/plain": [
       "<IPython.core.display.Javascript object>"
      ]
     },
     "metadata": {},
     "output_type": "display_data"
    }
   ],
   "source": [
    "kmeans_pca = KMeans(n_clusters = 3, init = 'k-means++', random_state = 42)"
   ]
  },
  {
   "cell_type": "code",
   "execution_count": 142,
   "id": "1b57a9bb",
   "metadata": {},
   "outputs": [
    {
     "data": {
      "text/plain": [
       "KMeans(n_clusters=3, random_state=42)"
      ]
     },
     "execution_count": 142,
     "metadata": {},
     "output_type": "execute_result"
    }
   ],
   "source": [
    "kmeans_pca.fit(pca_scores)"
   ]
  },
  {
   "cell_type": "code",
   "execution_count": 143,
   "id": "29662256",
   "metadata": {},
   "outputs": [],
   "source": [
    "pca_scores = pd.DataFrame(pca_scores)"
   ]
  },
  {
   "cell_type": "code",
   "execution_count": 144,
   "id": "fb215eee",
   "metadata": {},
   "outputs": [],
   "source": [
    "pca_scores.columns = ['Component 1', 'Component 2', 'Component 3', 'Component 4']"
   ]
  },
  {
   "cell_type": "code",
   "execution_count": 145,
   "id": "22246822",
   "metadata": {},
   "outputs": [],
   "source": [
    "df_seg_pca_kmeans = pd.concat([seg.reset_index(drop = True), pca_scores], axis = 1)"
   ]
  },
  {
   "cell_type": "code",
   "execution_count": 146,
   "id": "e21a5d26",
   "metadata": {},
   "outputs": [],
   "source": [
    "df_seg_pca_kmeans['Segment K-means pca'] = kmeans_pca.labels_"
   ]
  },
  {
   "cell_type": "code",
   "execution_count": 147,
   "id": "0a8a9535",
   "metadata": {},
   "outputs": [
    {
     "data": {
      "text/html": [
       "<div>\n",
       "<style scoped>\n",
       "    .dataframe tbody tr th:only-of-type {\n",
       "        vertical-align: middle;\n",
       "    }\n",
       "\n",
       "    .dataframe tbody tr th {\n",
       "        vertical-align: top;\n",
       "    }\n",
       "\n",
       "    .dataframe thead th {\n",
       "        text-align: right;\n",
       "    }\n",
       "</style>\n",
       "<table border=\"1\" class=\"dataframe\">\n",
       "  <thead>\n",
       "    <tr style=\"text-align: right;\">\n",
       "      <th></th>\n",
       "      <th>Gender</th>\n",
       "      <th>Age</th>\n",
       "      <th>Income</th>\n",
       "      <th>Setting</th>\n",
       "      <th>Marital</th>\n",
       "      <th>Component 1</th>\n",
       "      <th>Component 2</th>\n",
       "      <th>Component 3</th>\n",
       "      <th>Component 4</th>\n",
       "    </tr>\n",
       "    <tr>\n",
       "      <th>Segment K-means pca</th>\n",
       "      <th></th>\n",
       "      <th></th>\n",
       "      <th></th>\n",
       "      <th></th>\n",
       "      <th></th>\n",
       "      <th></th>\n",
       "      <th></th>\n",
       "      <th></th>\n",
       "      <th></th>\n",
       "    </tr>\n",
       "  </thead>\n",
       "  <tbody>\n",
       "    <tr>\n",
       "      <th>0</th>\n",
       "      <td>1.469185</td>\n",
       "      <td>2.013917</td>\n",
       "      <td>2.155070</td>\n",
       "      <td>1.000000</td>\n",
       "      <td>1.455268</td>\n",
       "      <td>-0.450377</td>\n",
       "      <td>-0.618438</td>\n",
       "      <td>0.887836</td>\n",
       "      <td>0.331898</td>\n",
       "    </tr>\n",
       "    <tr>\n",
       "      <th>1</th>\n",
       "      <td>1.811441</td>\n",
       "      <td>1.222458</td>\n",
       "      <td>9.864407</td>\n",
       "      <td>1.338983</td>\n",
       "      <td>1.832627</td>\n",
       "      <td>1.519521</td>\n",
       "      <td>-0.160176</td>\n",
       "      <td>-0.214319</td>\n",
       "      <td>-0.505324</td>\n",
       "    </tr>\n",
       "    <tr>\n",
       "      <th>2</th>\n",
       "      <td>1.431542</td>\n",
       "      <td>2.114385</td>\n",
       "      <td>2.726170</td>\n",
       "      <td>2.000000</td>\n",
       "      <td>1.615251</td>\n",
       "      <td>-0.850388</td>\n",
       "      <td>0.670152</td>\n",
       "      <td>-0.598653</td>\n",
       "      <td>0.124034</td>\n",
       "    </tr>\n",
       "  </tbody>\n",
       "</table>\n",
       "</div>"
      ],
      "text/plain": [
       "                       Gender       Age    Income   Setting   Marital  \\\n",
       "Segment K-means pca                                                     \n",
       "0                    1.469185  2.013917  2.155070  1.000000  1.455268   \n",
       "1                    1.811441  1.222458  9.864407  1.338983  1.832627   \n",
       "2                    1.431542  2.114385  2.726170  2.000000  1.615251   \n",
       "\n",
       "                     Component 1  Component 2  Component 3  Component 4  \n",
       "Segment K-means pca                                                      \n",
       "0                      -0.450377    -0.618438     0.887836     0.331898  \n",
       "1                       1.519521    -0.160176    -0.214319    -0.505324  \n",
       "2                      -0.850388     0.670152    -0.598653     0.124034  "
      ]
     },
     "execution_count": 147,
     "metadata": {},
     "output_type": "execute_result"
    }
   ],
   "source": [
    "df_seg_pca_kmeans_freq = df_seg_pca_kmeans.groupby(['Segment K-means pca']).mean()\n",
    "df_seg_pca_kmeans_freq"
   ]
  },
  {
   "cell_type": "code",
   "execution_count": null,
   "id": "374a14d5",
   "metadata": {},
   "outputs": [],
   "source": [
    "df_seg_pca_kmeans_freq['N Obs'] = df_seg_pca_kmeans[['Segment K-means pca', 'Sex']].groupby(['Segment K-means pca']).count()\n",
    "df_seg_pca_kmeans_freq['Prop Obs'] = df_seg_pca_kmeans_freq['N Obs']/df_seg_pca_kmeans_freq['N Obs'].sum()"
   ]
  },
  {
   "cell_type": "code",
   "execution_count": 152,
   "id": "0d0d2fdc",
   "metadata": {},
   "outputs": [
    {
     "data": {
      "text/html": [
       "<div>\n",
       "<style scoped>\n",
       "    .dataframe tbody tr th:only-of-type {\n",
       "        vertical-align: middle;\n",
       "    }\n",
       "\n",
       "    .dataframe tbody tr th {\n",
       "        vertical-align: top;\n",
       "    }\n",
       "\n",
       "    .dataframe thead th {\n",
       "        text-align: right;\n",
       "    }\n",
       "</style>\n",
       "<table border=\"1\" class=\"dataframe\">\n",
       "  <thead>\n",
       "    <tr style=\"text-align: right;\">\n",
       "      <th></th>\n",
       "      <th>Gender</th>\n",
       "      <th>Age</th>\n",
       "      <th>Income</th>\n",
       "      <th>Setting</th>\n",
       "      <th>Marital</th>\n",
       "      <th>Component 1</th>\n",
       "      <th>Component 2</th>\n",
       "      <th>Component 3</th>\n",
       "      <th>Component 4</th>\n",
       "    </tr>\n",
       "    <tr>\n",
       "      <th>Segment K-means pca</th>\n",
       "      <th></th>\n",
       "      <th></th>\n",
       "      <th></th>\n",
       "      <th></th>\n",
       "      <th></th>\n",
       "      <th></th>\n",
       "      <th></th>\n",
       "      <th></th>\n",
       "      <th></th>\n",
       "    </tr>\n",
       "  </thead>\n",
       "  <tbody>\n",
       "    <tr>\n",
       "      <th>Standard</th>\n",
       "      <td>1.469185</td>\n",
       "      <td>2.013917</td>\n",
       "      <td>2.155070</td>\n",
       "      <td>1.000000</td>\n",
       "      <td>1.455268</td>\n",
       "      <td>-0.450377</td>\n",
       "      <td>-0.618438</td>\n",
       "      <td>0.887836</td>\n",
       "      <td>0.331898</td>\n",
       "    </tr>\n",
       "    <tr>\n",
       "      <th>Young adults</th>\n",
       "      <td>1.811441</td>\n",
       "      <td>1.222458</td>\n",
       "      <td>9.864407</td>\n",
       "      <td>1.338983</td>\n",
       "      <td>1.832627</td>\n",
       "      <td>1.519521</td>\n",
       "      <td>-0.160176</td>\n",
       "      <td>-0.214319</td>\n",
       "      <td>-0.505324</td>\n",
       "    </tr>\n",
       "    <tr>\n",
       "      <th>Well off</th>\n",
       "      <td>1.431542</td>\n",
       "      <td>2.114385</td>\n",
       "      <td>2.726170</td>\n",
       "      <td>2.000000</td>\n",
       "      <td>1.615251</td>\n",
       "      <td>-0.850388</td>\n",
       "      <td>0.670152</td>\n",
       "      <td>-0.598653</td>\n",
       "      <td>0.124034</td>\n",
       "    </tr>\n",
       "  </tbody>\n",
       "</table>\n",
       "</div>"
      ],
      "text/plain": [
       "                       Gender       Age    Income   Setting   Marital  \\\n",
       "Segment K-means pca                                                     \n",
       "Standard             1.469185  2.013917  2.155070  1.000000  1.455268   \n",
       "Young adults         1.811441  1.222458  9.864407  1.338983  1.832627   \n",
       "Well off             1.431542  2.114385  2.726170  2.000000  1.615251   \n",
       "\n",
       "                     Component 1  Component 2  Component 3  Component 4  \n",
       "Segment K-means pca                                                      \n",
       "Standard               -0.450377    -0.618438     0.887836     0.331898  \n",
       "Young adults            1.519521    -0.160176    -0.214319    -0.505324  \n",
       "Well off               -0.850388     0.670152    -0.598653     0.124034  "
      ]
     },
     "execution_count": 152,
     "metadata": {},
     "output_type": "execute_result"
    }
   ],
   "source": [
    "df_seg_pca_kmeans_freq.rename({0: 'Standard', \n",
    "                     1:'Young adults', \n",
    "                     2:'Well off'})"
   ]
  },
  {
   "cell_type": "code",
   "execution_count": 153,
   "id": "715391c7",
   "metadata": {},
   "outputs": [],
   "source": [
    "df_seg_pca_kmeans['Legend'] = df_seg_pca_kmeans['Segment K-means pca'].map({0: 'Standard', \n",
    "                     1:'Young adults', \n",
    "                     2:'Well off'})"
   ]
  },
  {
   "cell_type": "code",
   "execution_count": 154,
   "id": "8d52de80",
   "metadata": {},
   "outputs": [
    {
     "name": "stderr",
     "output_type": "stream",
     "text": [
      "C:\\Users\\User\\anaconda3\\lib\\site-packages\\seaborn\\_decorators.py:36: FutureWarning: Pass the following variables as keyword args: x, y. From version 0.12, the only valid positional argument will be `data`, and passing other arguments without an explicit keyword will result in an error or misinterpretation.\n",
      "  warnings.warn(\n"
     ]
    },
    {
     "data": {
      "text/plain": [
       "<AxesSubplot:xlabel='Component 2', ylabel='Component 1'>"
      ]
     },
     "execution_count": 154,
     "metadata": {},
     "output_type": "execute_result"
    },
    {
     "data": {
      "image/png": "[encoded data removed]",
      "text/plain": [
       "<Figure size 720x432 with 1 Axes>"
      ]
     },
     "metadata": {},
     "output_type": "display_data"
    }
   ],
   "source": [
    "x_axis = df_seg_pca_kmeans['Component 2']\n",
    "y_axis = df_seg_pca_kmeans['Component 1']\n",
    "plt.figure (figsize = (10,6))\n",
    "sns.scatterplot(x_axis, y_axis, hue = df_seg_pca_kmeans['Legend'])"
   ]
  },
  {
   "cell_type": "code",
   "execution_count": null,
   "id": "73d50197",
   "metadata": {},
   "outputs": [],
   "source": []
  }
 ],
 "metadata": {
  "kernelspec": {
   "display_name": "Python 3 (ipykernel)",
   "language": "python",
   "name": "python3"
  },
  "language_info": {
   "codemirror_mode": {
    "name": "ipython",
    "version": 3
   },
   "file_extension": ".py",
   "mimetype": "text/x-python",
   "name": "python",
   "nbconvert_exporter": "python",
   "pygments_lexer": "ipython3",
   "version": "3.10.9"
  }
 },
 "nbformat": 4,
 "nbformat_minor": 5
}
